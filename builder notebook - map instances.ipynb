{
 "cells": [
  {
   "cell_type": "code",
   "execution_count": null,
   "metadata": {
    "collapsed": false,
    "scrolled": true
   },
   "outputs": [],
   "source": [
    "import numpy as np\n",
    "import tensorflow as tf\n",
    "import trrbm\n",
    "import pickle\n",
    "from sklearn.preprocessing import OneHotEncoder\n",
    "from matplotlib import pyplot as plt\n",
    "\n",
    "def load_samples(path):\n",
    "    with open(path, \"rb\") as f:\n",
    "        return pickle.load(f)\n",
    "    \n",
    "def unpack_samples(samples):\n",
    "    unpacked = []\n",
    "    actions = []\n",
    "    for sample in samples:\n",
    "        state = np.array(sample[0])\n",
    "        state_prime = np.array(sample[2])\n",
    "        reward = np.array(sample[3])\n",
    "        terminal = np.array(int(sample[4]))\n",
    "        \n",
    "        # need to one-hot-encode the action \n",
    "        action = [sample[1]]\n",
    "        \n",
    "        unpacked.append(np.concatenate([state,state_prime]))\n",
    "        actions.append(action)\n",
    "        \n",
    "    actions = OneHotEncoder(sparse=False).fit_transform(np.stack(actions)).astype(float)\n",
    "    return np.concatenate([unpacked,actions],axis=1)\n",
    "    \n",
    "def even_out_samplesizes(samples1, samples2):\n",
    "    if len(samples1) < len(samples2):\n",
    "        samples1 = np.tile(samples1,[np.math.ceil(len(samples2)/(len(samples1))),1])\n",
    "        np.random.shuffle(samples1)\n",
    "        samples1 = samples1[:len(samples2)]\n",
    "        \n",
    "    if len(samples1) > len(samples2):\n",
    "        samples2 = np.tile(samples2,[np.math.ceil(len(samples1)/(len(samples2))),1])\n",
    "        np.random.shuffle(samples2)\n",
    "        samples2 = samples2[:len(samples1)]\n",
    "        \n",
    "    return samples1, samples2\n",
    "    \n",
    "def main():\n",
    "    \n",
    "    source_random_path = '../taylor_master/data/2d_instances.pkl'\n",
    "    target_random_path = '../taylor_master/data/3d_instances.pkl'\n",
    "    source_optimal_path = ''\n",
    "\n",
    "    # load source task random samples\n",
    "    source_random = unpack_samples(load_samples(source_random_path))\n",
    "\n",
    "    # load target task random samples\n",
    "    target_random = unpack_samples(load_samples(target_random_path))\n",
    "    \n",
    "    # prepare samples\n",
    "    source_random, target_random = even_out_samplesizes(source_random, target_random)\n",
    "\n",
    "    # load the model\n",
    "\n",
    "    rbm = trrbm.RBM(\n",
    "        name = \"TrRBM\",\n",
    "        v1_size = source_random.shape[1], \n",
    "        h_size = 100, \n",
    "        v2_size = target_random.shape[1], \n",
    "        n_data = source_random.shape[0], \n",
    "        batch_size = 100, \n",
    "        learning_rate = 0.001,\n",
    "        num_epochs = 500, \n",
    "        n_factors = 40,\n",
    "        k = 1,\n",
    "        use_tqdm = True,\n",
    "        show_err_plt = True\n",
    "    )\n",
    "\n",
    "    # train model\n",
    "    errs = rbm.train(source_random, target_random)\n",
    "    \n",
    "    if rbm.show_err_plt:\n",
    "        plt.plot(range(len(rbm.cost)), rbm.cost)\n",
    "        plt.title('training reconstruction error')\n",
    "        plt.xlabel('epoch')\n",
    "        plt.ylabel('avg reconstruction error')\n",
    "        plt.show()\n",
    "\n",
    "    # load source task optimal instances\n",
    "    \n",
    "\n",
    "    # map to target instances\n",
    "    \n",
    "if __name__ == '__main__':\n",
    "    main()"
   ]
  },
  {
   "cell_type": "code",
   "execution_count": null,
   "metadata": {
    "collapsed": false
   },
   "outputs": [],
   "source": [
    "%debug"
   ]
  },
  {
   "cell_type": "code",
   "execution_count": null,
   "metadata": {
    "collapsed": false
   },
   "outputs": [],
   "source": [
    "    source_random_path = '../taylor_master/data/2d_instances.pkl'\n",
    "    target_random_path = '../taylor_master/data/3d_instances.pkl'\n",
    "    source_optimal_path = ''\n",
    "\n",
    "    # load source task random samples\n",
    "    source_random = unpack_samples(load_samples(source_random_path))\n",
    "\n",
    "    # load target task random samples\n",
    "    target_random = unpack_samples(load_samples(target_random_path))\n",
    "    \n",
    "    # prepare samples\n",
    "    source_random, target_random = even_out_samplesizes(source_random, target_random)"
   ]
  },
  {
   "cell_type": "code",
   "execution_count": null,
   "metadata": {
    "collapsed": false
   },
   "outputs": [],
   "source": [
    "target_random.astype(float)"
   ]
  },
  {
   "cell_type": "code",
   "execution_count": null,
   "metadata": {
    "collapsed": false
   },
   "outputs": [],
   "source": [
    "b = np.arange(15*10).reshape(15,10)\n",
    "a = np.arange(40*10).reshape(40,10)\n",
    "evenout_samplesets(a, b)"
   ]
  },
  {
   "cell_type": "code",
   "execution_count": null,
   "metadata": {
    "collapsed": false
   },
   "outputs": [],
   "source": [
    "b.shape"
   ]
  },
  {
   "cell_type": "code",
   "execution_count": null,
   "metadata": {
    "collapsed": false
   },
   "outputs": [],
   "source": [
    "a"
   ]
  },
  {
   "cell_type": "code",
   "execution_count": null,
   "metadata": {
    "collapsed": true
   },
   "outputs": [],
   "source": []
  }
 ],
 "metadata": {
  "kernelspec": {
   "display_name": "Python [conda root]",
   "language": "python",
   "name": "conda-root-py"
  },
  "language_info": {
   "codemirror_mode": {
    "name": "ipython",
    "version": 3
   },
   "file_extension": ".py",
   "mimetype": "text/x-python",
   "name": "python",
   "nbconvert_exporter": "python",
   "pygments_lexer": "ipython3",
   "version": "3.5.2"
  }
 },
 "nbformat": 4,
 "nbformat_minor": 1
}
