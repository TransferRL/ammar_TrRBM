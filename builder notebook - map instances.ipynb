{
 "cells": [
  {
   "cell_type": "code",
   "execution_count": 191,
   "metadata": {
    "collapsed": false,
    "scrolled": false
   },
   "outputs": [
    {
     "name": "stderr",
     "output_type": "stream",
     "text": [
      "\n",
      "  0%|          | 0/500 [00:00<?, ?it/s]\u001b[A\n",
      "squared reconstruction average batch error: 435.86971953125:   0%|          | 1/500 [00:01<11:50,  1.42s/it]\u001b[A\n",
      "squared reconstruction average batch error: 421.83988125:   0%|          | 2/500 [00:02<10:58,  1.32s/it]   \u001b[A\n",
      "squared reconstruction average batch error: 412.35816484375:   1%|          | 3/500 [00:03<10:38,  1.29s/it]\u001b[A\n",
      "squared reconstruction average batch error: 411.30018125:   1%|          | 4/500 [00:04<10:12,  1.23s/it]   \u001b[A\n",
      "squared reconstruction average batch error: 410.336778125:   1%|          | 5/500 [00:05<09:53,  1.20s/it]\u001b[A\n",
      "squared reconstruction average batch error: 406.7774546875:   1%|          | 6/500 [00:07<09:38,  1.17s/it]\u001b[A\n",
      "squared reconstruction average batch error: 132.6077548828125:  60%|██████    | 301/500 [05:39<03:33,  1.07s/it]"
     ]
    },
    {
     "data": {
      "image/png": "[encoded data removed]",
      "text/plain": [
       "<matplotlib.figure.Figure at 0x12d5449e8>"
      ]
     },
     "metadata": {},
     "output_type": "display_data"
    },
    {
     "name": "stdout",
     "output_type": "stream",
     "text": [
      "DEBUG: mapping instances over using TrRBM\n",
      "DEBUG: preparing target instances\n",
      "DEBUG: generating black-box rewards\n",
      "done\n"
     ]
    }
   ],
   "source": [
    "import numpy as np\n",
    "import tensorflow as tf\n",
    "import trrbm\n",
    "import utils\n",
    "import pickle\n",
    "from sklearn.preprocessing import OneHotEncoder\n",
    "from matplotlib import pyplot as plt\n",
    "import gym\n",
    "\n",
    "import sys\n",
    "sys.path.append('../taylor_master/lib/env/')\n",
    "from threedmountain_car import ThreeDMountainCarEnv\n",
    "\n",
    "N_MAPPED = 5000\n",
    "target_env = ThreeDMountainCarEnv()\n",
    "\n",
    "def load_samples(path):\n",
    "    with open(path, \"rb\") as f:\n",
    "        return pickle.load(f)\n",
    "    \n",
    "def unpack_samples(samples, action_encoder, fit_encoder=True):\n",
    "    unpacked = []\n",
    "    actions = []\n",
    "    for sample in samples:\n",
    "        state = np.array(sample[0])\n",
    "        state_prime = np.array(sample[2])\n",
    "        reward = np.array(sample[3])\n",
    "        terminal = np.array(int(sample[4]))\n",
    "        \n",
    "        # need to one-hot-encode the action \n",
    "        action = [int(sample[1])]\n",
    "        \n",
    "        if action_encoder is not None:\n",
    "            unpacked.append(np.concatenate([state,state_prime]))\n",
    "            actions.append(action)\n",
    "        else:\n",
    "            unpacked.append(np.concatenate([state,state_prime,action]))\n",
    "            \n",
    "    if action_encoder is not None:\n",
    "        if fit_encoder == True:\n",
    "            action_encoder.fit(np.array(actions).reshape(-1,1))\n",
    "        actions = action_encoder.transform(np.array(actions).reshape(-1,1)).astype(float)\n",
    "        unpacked = np.concatenate([unpacked,actions],axis=1)\n",
    "    else:\n",
    "        unpacked = np.stack(unpacked)\n",
    "    return action_encoder, unpacked\n",
    "\n",
    "def unpack_episodes(episodes, action_encoder, fit_encoder=False):\n",
    "    samples = []\n",
    "    for episode in episodes:\n",
    "        for sample in episode:\n",
    "            samples.append(sample)\n",
    "    _, unpacked = unpack_samples(samples, action_encoder, fit_encoder=False)\n",
    "    return unpacked\n",
    "    \n",
    "def even_out_samplesizes(samples1, samples2):\n",
    "    if len(samples1) < len(samples2):\n",
    "        samples1 = np.tile(samples1,[np.math.ceil(len(samples2)/(len(samples1))),1])\n",
    "        np.random.shuffle(samples1)\n",
    "        samples1 = samples1[:len(samples2)]\n",
    "        \n",
    "    if len(samples1) > len(samples2):\n",
    "        samples2 = np.tile(samples2,[np.math.ceil(len(samples1)/(len(samples2))),1])\n",
    "        np.random.shuffle(samples2)\n",
    "        samples2 = samples2[:len(samples1)]\n",
    "        \n",
    "    return samples1, samples2\n",
    "\n",
    "\n",
    "def prepare_target_triplets(target_mapped,state_size,action_size):\n",
    "\n",
    "    target_states = target_mapped[:,:state_size]\n",
    "    target_states_prime = target_mapped[:,state_size:-action_size]\n",
    "    target_actions = target_mapped[:,-action_size:]\n",
    "    actions_greedy = np.argmax(target_actions,axis=1)\n",
    "\n",
    "    #actions_probabilities = (np.exp(-target_actions)/np.sum(np.exp(-target_actions),axis=1).reshape(-1,1))\n",
    "    #actions_sampled = np.random.multinomial(1, actions_probabilities[0], N_ACT_SAMPLES).argmax(1)\n",
    "\n",
    "    return target_states, target_states_prime, actions_greedy.reshape(-1,1)\n",
    "\n",
    "def generate_rewards(env,states,actions):\n",
    "    # for now just taking the actual environment as the black box function\n",
    "    assert len(states) == len(actions)\n",
    "    rewards = []\n",
    "    for state, action in zip(states,actions):\n",
    "        env.state = state\n",
    "        next_state, reward, done, info = env.step(action[0])\n",
    "        rewards.append(reward)\n",
    "    return rewards\n",
    "    \n",
    "    \n",
    "def main():\n",
    "    \n",
    "    source_random_path = '../taylor_master/data/2d_instances.pkl'\n",
    "    target_random_path = '../taylor_master/data/3d_instances.pkl'\n",
    "    source_optimal_path = '../taylor_master/data/optimal_instances.pkl'\n",
    "\n",
    "    # load source task random samples\n",
    "    source_action_encoder, source_random = unpack_samples(load_samples(source_random_path),OneHotEncoder(sparse=False))\n",
    "\n",
    "    # load target task random samples\n",
    "    target_action_encoder, target_random = unpack_samples(load_samples(target_random_path),OneHotEncoder(sparse=False))\n",
    "    \n",
    "    \n",
    "    # prepare samples\n",
    "    source_random, target_random = even_out_samplesizes(source_random, target_random)\n",
    "    source_scaler, source_random = utils.standardize_samples(source_random)\n",
    "    target_scaler, target_random = utils.standardize_samples(target_random)\n",
    "    \n",
    "    # load the TrRBM model\n",
    "\n",
    "    rbm = trrbm.RBM(\n",
    "        name = \"TrRBM\",\n",
    "        v1_size = source_random.shape[1], \n",
    "        h_size = 100, \n",
    "        v2_size = target_random.shape[1], \n",
    "        n_data = source_random.shape[0], \n",
    "        batch_size = 100, \n",
    "        learning_rate = 0.00000001,\n",
    "        num_epochs = 500, \n",
    "        n_factors = 40,\n",
    "        k = 1,\n",
    "        use_tqdm = True,\n",
    "        show_err_plt = True\n",
    "    )\n",
    "\n",
    "    # train the TrRBM \\model\n",
    "    errs = rbm.train(source_random, target_random)\n",
    "    \n",
    "    if rbm.show_err_plt:\n",
    "        plt.plot(range(len(rbm.cost)), rbm.cost)\n",
    "        plt.title('training reconstruction error')\n",
    "        plt.xlabel('epoch')\n",
    "        plt.ylabel('avg reconstruction error')\n",
    "        plt.show()\n",
    "\n",
    "    # load source task optimal instances\n",
    "    source_optimal = unpack_episodes(load_samples(source_optimal_path), source_action_encoder, fit_encoder=False)\n",
    "    source_optimal = source_scaler.transform(source_optimal)\n",
    "\n",
    "    # map to target instances\n",
    "    print('DEBUG: mapping instances over using TrRBM')\n",
    "    np.random.shuffle(source_optimal)\n",
    "    target_mapped = rbm.v2_predict(source_optimal[:N_MAPPED])\n",
    "    target_mapped = target_scaler.inverse_transform(target_mapped)\n",
    "    \n",
    "    # prepare target instances (i.e. decode action; split s from s')\n",
    "    print('DEBUG: preparing target instances')\n",
    "    action_size = int(target_action_encoder.feature_indices_[-1])\n",
    "    state_size = int((target_mapped.shape[1]-target_action_encoder.feature_indices_[-1])/2)\n",
    "    target_states, target_states_prime, target_actions = prepare_target_triplets(target_mapped,state_size,action_size)\n",
    "    \n",
    "    # get rewards from black-box model of reward function\n",
    "    print('DEBUG: generating black-box rewards')\n",
    "    rewards = generate_rewards(target_env,target_states,target_actions)\n",
    "    \n",
    "    # use transferred tuples to learn initial target policy \\pi_{T}^{o}\n",
    "    \n",
    "        #### SEE builder notebook - fitted Q iteration\n",
    "    \n",
    "    # use initial target policy \n",
    "    \n",
    "        #TODO load trained Q net, use with steps in env\n",
    "    \n",
    "    return rewards, rbm\n",
    "    \n",
    "if __name__ == '__main__':\n",
    "    rewards, rbm =  main()\n",
    "    print('done')"
   ]
  },
  {
   "cell_type": "code",
   "execution_count": 190,
   "metadata": {
    "collapsed": false
   },
   "outputs": [
    {
     "data": {
      "text/plain": [
       "-1.0"
      ]
     },
     "execution_count": 190,
     "metadata": {},
     "output_type": "execute_result"
    }
   ],
   "source": [
    "max(rewards)"
   ]
  },
  {
   "cell_type": "code",
   "execution_count": null,
   "metadata": {
    "collapsed": false,
    "scrolled": false
   },
   "outputs": [],
   "source": []
  },
  {
   "cell_type": "code",
   "execution_count": 172,
   "metadata": {
    "collapsed": false
   },
   "outputs": [],
   "source": [
    "N_ACT_SAMPLES = 1\n"
   ]
  },
  {
   "cell_type": "code",
   "execution_count": 175,
   "metadata": {
    "collapsed": false
   },
   "outputs": [
    {
     "data": {
      "text/plain": [
       "array([0, 1, 0, 4, 4, 0, 4, 2, 2, 0, 4, 3, 2, 1, 0, 4, 1, 1, 0, 1, 4, 4, 3,\n",
       "       3, 3, 3, 4, 0, 4, 4, 2, 1, 0, 1, 4, 0, 1, 2, 2, 1, 1, 3, 0, 0, 2, 3,\n",
       "       4, 2, 1, 3])"
      ]
     },
     "execution_count": 175,
     "metadata": {},
     "output_type": "execute_result"
    }
   ],
   "source": [
    "actions_greedy[:50]"
   ]
  },
  {
   "cell_type": "code",
   "execution_count": 132,
   "metadata": {
    "collapsed": false
   },
   "outputs": [
    {
     "data": {
      "text/plain": [
       "-0.10682081857624888"
      ]
     },
     "execution_count": 132,
     "metadata": {},
     "output_type": "execute_result"
    }
   ],
   "source": [
    "source_optimal[0][-target_action_encoder.feature_indices_[-1]]"
   ]
  },
  {
   "cell_type": "code",
   "execution_count": 8,
   "metadata": {
    "collapsed": false
   },
   "outputs": [
    {
     "ename": "SystemError",
     "evalue": "Parent module '' not loaded, cannot perform relative import",
     "output_type": "error",
     "traceback": [
      "\u001b[0;31m---------------------------------------------------------------------------\u001b[0m",
      "\u001b[0;31mSystemError\u001b[0m                               Traceback (most recent call last)",
      "\u001b[0;32m<ipython-input-8-4ad93383da29>\u001b[0m in \u001b[0;36m<module>\u001b[0;34m()\u001b[0m\n\u001b[0;32m----> 1\u001b[0;31m \u001b[0;32mfrom\u001b[0m \u001b[0;34m.\u001b[0m\u001b[0;34m.\u001b[0m \u001b[0;32mimport\u001b[0m \u001b[0mtaylor_master\u001b[0m \u001b[0;32mas\u001b[0m \u001b[0mmaster\u001b[0m\u001b[0;34m\u001b[0m\u001b[0m\n\u001b[0m",
      "\u001b[0;31mSystemError\u001b[0m: Parent module '' not loaded, cannot perform relative import"
     ]
    }
   ],
   "source": [
    "import taylor_master as master"
   ]
  },
  {
   "cell_type": "code",
   "execution_count": 10,
   "metadata": {
    "collapsed": false
   },
   "outputs": [],
   "source": [
    "import sys\n",
    "\n",
    "sys.path.append(\"../taylor_master/\")"
   ]
  },
  {
   "cell_type": "code",
   "execution_count": 11,
   "metadata": {
    "collapsed": true
   },
   "outputs": [],
   "source": [
    "from lib."
   ]
  },
  {
   "cell_type": "code",
   "execution_count": 12,
   "metadata": {
    "collapsed": true
   },
   "outputs": [],
   "source": []
  },
  {
   "cell_type": "code",
   "execution_count": 13,
   "metadata": {
    "collapsed": false
   },
   "outputs": [
    {
     "ename": "NameError",
     "evalue": "name 'a' is not defined",
     "output_type": "error",
     "traceback": [
      "\u001b[0;31m---------------------------------------------------------------------------\u001b[0m",
      "\u001b[0;31mNameError\u001b[0m                                 Traceback (most recent call last)",
      "\u001b[0;32m<ipython-input-13-d56981d90579>\u001b[0m in \u001b[0;36m<module>\u001b[0;34m()\u001b[0m\n\u001b[0;32m----> 1\u001b[0;31m \u001b[0mstandardize_samples\u001b[0m\u001b[0;34m(\u001b[0m\u001b[0ma\u001b[0m\u001b[0;34m)\u001b[0m\u001b[0;34m\u001b[0m\u001b[0m\n\u001b[0m",
      "\u001b[0;31mNameError\u001b[0m: name 'a' is not defined"
     ]
    }
   ],
   "source": [
    "standardize_samples(a)"
   ]
  },
  {
   "cell_type": "code",
   "execution_count": 32,
   "metadata": {
    "collapsed": false
   },
   "outputs": [],
   "source": [
    "ass = [[[1,2,3],[4,5,6]],[[1,2,3],[4,5,6]]]"
   ]
  },
  {
   "cell_type": "code",
   "execution_count": 33,
   "metadata": {
    "collapsed": false
   },
   "outputs": [
    {
     "data": {
      "text/plain": [
       "[[[1, 2, 3], [4, 5, 6]], [[1, 2, 3], [4, 5, 6]]]"
      ]
     },
     "execution_count": 33,
     "metadata": {},
     "output_type": "execute_result"
    }
   ],
   "source": [
    "[[s for s in a] for a in ass]"
   ]
  },
  {
   "cell_type": "code",
   "execution_count": 46,
   "metadata": {
    "collapsed": false
   },
   "outputs": [],
   "source": [
    "ass = load_samples(source_optimal_path)"
   ]
  },
  {
   "cell_type": "code",
   "execution_count": 131,
   "metadata": {
    "collapsed": false
   },
   "outputs": [
    {
     "data": {
      "text/plain": [
       "5"
      ]
     },
     "execution_count": 131,
     "metadata": {},
     "output_type": "execute_result"
    }
   ],
   "source": []
  },
  {
   "cell_type": "code",
   "execution_count": 56,
   "metadata": {
    "collapsed": false
   },
   "outputs": [
    {
     "data": {
      "text/plain": [
       "array([ 1.4063165 , -0.93932741,  1.33327236, -0.98875802,  1.39699458,\n",
       "       -0.70753109, -0.69800429])"
      ]
     },
     "execution_count": 56,
     "metadata": {},
     "output_type": "execute_result"
    }
   ],
   "source": [
    "source_random[0]"
   ]
  },
  {
   "cell_type": "code",
   "execution_count": 62,
   "metadata": {
    "collapsed": false
   },
   "outputs": [],
   "source": []
  },
  {
   "cell_type": "code",
   "execution_count": 69,
   "metadata": {
    "collapsed": false
   },
   "outputs": [],
   "source": [
    "a=load_samples(source_random_path)\n",
    "\n",
    "sr = []\n",
    "for sample in a:\n",
    "    sr.append(sample[1])"
   ]
  },
  {
   "cell_type": "code",
   "execution_count": 73,
   "metadata": {
    "collapsed": false
   },
   "outputs": [
    {
     "data": {
      "text/plain": [
       "{0, 1, 2}"
      ]
     },
     "execution_count": 73,
     "metadata": {},
     "output_type": "execute_result"
    }
   ],
   "source": [
    "set(sr)"
   ]
  },
  {
   "cell_type": "code",
   "execution_count": 70,
   "metadata": {
    "collapsed": true
   },
   "outputs": [],
   "source": [
    "a=load_samples(source_random_path)\n",
    "\n",
    "so = []\n",
    "for sample in a:\n",
    "    so.append(sample[1])"
   ]
  },
  {
   "cell_type": "code",
   "execution_count": 91,
   "metadata": {
    "collapsed": false
   },
   "outputs": [
    {
     "data": {
      "text/plain": [
       "array([[ 0.,  0.,  1.,  0.,  0.],\n",
       "       [ 0.,  0.,  1.,  0.,  0.],\n",
       "       [ 1.,  0.,  0.,  0.,  0.],\n",
       "       ..., \n",
       "       [ 0.,  0.,  1.,  0.,  0.],\n",
       "       [ 1.,  0.,  0.,  0.,  0.],\n",
       "       [ 0.,  1.,  0.,  0.,  0.]])"
      ]
     },
     "execution_count": 91,
     "metadata": {},
     "output_type": "execute_result"
    }
   ],
   "source": [
    "source_action_encoder.transform(np.array(sr).reshape(-1,1))"
   ]
  },
  {
   "cell_type": "code",
   "execution_count": 119,
   "metadata": {
    "collapsed": false
   },
   "outputs": [
    {
     "data": {
      "text/plain": [
       "(5000, 13)"
      ]
     },
     "execution_count": 119,
     "metadata": {},
     "output_type": "execute_result"
    }
   ],
   "source": [
    "target_mapped.shape"
   ]
  },
  {
   "cell_type": "code",
   "execution_count": null,
   "metadata": {
    "collapsed": true
   },
   "outputs": [],
   "source": []
  }
 ],
 "metadata": {
  "anaconda-cloud": {},
  "kernelspec": {
   "display_name": "Python [conda root]",
   "language": "python",
   "name": "conda-root-py"
  },
  "language_info": {
   "codemirror_mode": {
    "name": "ipython",
    "version": 3
   },
   "file_extension": ".py",
   "mimetype": "text/x-python",
   "name": "python",
   "nbconvert_exporter": "python",
   "pygments_lexer": "ipython3",
   "version": "3.5.2"
  }
 },
 "nbformat": 4,
 "nbformat_minor": 1
}
