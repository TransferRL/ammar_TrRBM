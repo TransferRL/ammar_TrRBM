{
 "cells": [
  {
   "cell_type": "code",
   "execution_count": 36,
   "metadata": {
    "collapsed": false
   },
   "outputs": [],
   "source": [
    "import tensorflow as tf\n",
    "import numpy as np\n",
    "from tqdm import tqdm\n",
    "from matplotlib import pyplot as plt\n",
    "\n",
    "n_state = 10\n",
    "n_action = 5\n",
    "n_samples = 100\n",
    "\n",
    "discount = 0.5\n",
    "\n",
    "# TODO USE ACTUAL MAPPED INSTANCES INSTEAD OF THESE RANDOMLY GENERATED VECTORS\n",
    "actions = np.random.binomial(n_action-1,[1/n_action],n_samples)\n",
    "instances = np.arange(n_state*n_samples).reshape(n_samples,n_state).astype(float)\n",
    "transitions = np.arange(n_state*n_samples).reshape(n_samples,n_state).astype(float)\n",
    "rewards = -np.ones((n_samples))\n",
    "\n",
    "n_layer1 = 15\n",
    "n_layer2 = 15\n",
    "n_layer3 = 15\n",
    "\n",
    "# TODO STANDARDIZE INPUTS AND OUTPUTS\n",
    "\n",
    "initializer = tf.truncated_normal_initializer\n",
    "ini_mean = 0\n",
    "ini_std = 1\n",
    "activation = tf.nn.relu\n",
    "\n",
    "def weight_matrix(n_from,n_to):\n",
    "    return tf.Variable(tf.truncated_normal(\n",
    "        shape=(n_from,n_to)\n",
    "        ,mean=ini_mean\n",
    "        ,stddev=ini_std/(n_from+n_to)\n",
    "        ,dtype=tf.float32))\n",
    "\n",
    "def bias_matrix(n_to):\n",
    "    return tf.zeros(shape=(1,n_to),dtype=tf.float32)\n",
    "\n",
    "\n",
    "q_input = tf.placeholder(name='q_input', shape=(None,n_state),dtype=tf.float32)\n",
    "\n",
    "q_w1 = weight_matrix(n_state,n_layer1)\n",
    "q_b1 = bias_matrix(n_layer1)\n",
    "q_layer1 = activation(tf.matmul(q_input,q_w1) + q_b1)\n",
    "q_w2 = weight_matrix(n_layer1,n_layer2)\n",
    "q_b2 = bias_matrix(n_layer2)\n",
    "q_layer2 = activation(tf.matmul(q_layer1,q_w2)+ q_b2)\n",
    "q_w3 = weight_matrix(n_layer2,n_layer3)\n",
    "q_b3 = bias_matrix(n_layer3)\n",
    "q_layer3 = activation(tf.matmul(q_layer2,q_w3)+ q_b3)\n",
    "q_wout = weight_matrix(n_layer3,n_action)\n",
    "\n",
    "q_bpred = bias_matrix(n_action) \n",
    "q_pred = tf.matmul(q_layer3,q_wout) + q_bpred\n",
    "\n",
    "q_output = tf.placeholder(name='q_output',shape=(None,n_action),dtype=tf.float32)\n",
    "loss = tf.nn.l2_loss(q_output - q_pred)\n",
    "\n",
    "opt = tf.train.MomentumOptimizer(\n",
    "    learning_rate=0.000001,\n",
    "    momentum=0.7)\n",
    "\n",
    "opt_op = opt.minimize(loss, var_list = [q_w1,q_w2,q_w3,q_wout])\n",
    "\n",
    "builder = tf.saved_model.builder.SavedModelBuilder(\"./tmp/model.ckpt\")"
   ]
  },
  {
   "cell_type": "code",
   "execution_count": 42,
   "metadata": {
    "collapsed": false
   },
   "outputs": [
    {
     "name": "stderr",
     "output_type": "stream",
     "text": [
      "loss: 46.018577575683594: 100%|██████████| 5/5 [00:00<00:00, 58.23it/s]"
     ]
    },
    {
     "name": "stdout",
     "output_type": "stream",
     "text": [
      "INFO:tensorflow:No assets to save.\n",
      "INFO:tensorflow:No assets to write.\n"
     ]
    },
    {
     "name": "stderr",
     "output_type": "stream",
     "text": [
      "\n"
     ]
    },
    {
     "name": "stdout",
     "output_type": "stream",
     "text": [
      "INFO:tensorflow:SavedModel written to: b'./tmp3/model.ckpt/saved_model.pb'\n",
      "b'./tmp3/model.ckpt/saved_model.pb'\n",
      "done - model saved at ./tmp/model.ckpt\n"
     ]
    },
    {
     "data": {
      "image/png": "[encoded data removed]",
      "text/plain": [
       "<matplotlib.figure.Figure at 0x11c0cebe0>"
      ]
     },
     "metadata": {},
     "output_type": "display_data"
    }
   ],
   "source": [
    "n_epochs = 5\n",
    "\n",
    "sess = tf.Session()\n",
    "init = tf.global_variables_initializer()\n",
    "sess.run(init)\n",
    "pbar = tqdm(range(n_epochs))\n",
    "_losses = []\n",
    "for _ in pbar:\n",
    "\n",
    "    bellman_trans_q = np.max(sess.run(q_pred, feed_dict={q_input:transitions}),axis=1)\n",
    "\n",
    "    ground_truth = sess.run(q_pred, feed_dict={q_input:instances})\n",
    "    ground_truth[list(range(n_samples)),actions] = rewards + discount*bellman_trans_q\n",
    "\n",
    "    sess.run(opt_op,feed_dict={q_input:instances, q_output:ground_truth})\n",
    "    _loss = sess.run(loss,feed_dict={q_input:instances, q_output:ground_truth})\n",
    "    _losses.append(_loss)\n",
    "    pbar.set_description('loss: {}'.format(_loss))\n",
    "    \n",
    "    ### TODO : Save model w/trained variables for use in target task\n",
    "    \n",
    "builder.add_meta_graph_and_variables(sess,\n",
    "                                     ['q_learning']\n",
    "                                        \n",
    "                                       )\n",
    "\n",
    "print(builder.save())\n",
    "\n",
    "print('done - model saved at', save_path)\n",
    "\n",
    "sess.close()\n",
    "    \n",
    "plt.plot(list(range(n_epochs)),_losses)\n",
    "plt.show()"
   ]
  },
  {
   "cell_type": "code",
   "execution_count": 17,
   "metadata": {
    "collapsed": false
   },
   "outputs": [
    {
     "data": {
      "text/plain": [
       "array([-0.99908656, -0.99699093, -0.99488709, -0.99279086, -0.99070133,\n",
       "       -0.98860738, -0.98651342, -0.98441946, -0.98232551, -0.98023154,\n",
       "       -0.97813759, -0.97604364, -0.97394967, -0.97185571, -0.96976176,\n",
       "       -0.9676678 , -0.96557384, -0.96347989, -0.96138594, -0.95929197,\n",
       "       -0.95719801, -0.95510406, -0.9530101 , -0.95091614, -0.94882219,\n",
       "       -0.94672824, -0.94463426, -0.94254033, -0.94044635, -0.93835241,\n",
       "       -0.93625844, -0.93416446, -0.93207053, -0.92997657, -0.92788262,\n",
       "       -0.92578866, -0.92369469, -0.92160076, -0.91950679, -0.91741284,\n",
       "       -0.91531888, -0.9132249 , -0.91113097, -0.909037  , -0.90694305,\n",
       "       -0.90484908, -0.90275512, -0.90066117, -0.89856721, -0.89647329,\n",
       "       -0.89437939, -0.89228547, -0.89019156, -0.88809758, -0.88600367,\n",
       "       -0.88390972, -0.88181585, -0.87972194, -0.87762798, -0.87553407,\n",
       "       -0.87344015, -0.87134624, -0.86925229, -0.86715835, -0.86506444,\n",
       "       -0.8629705 , -0.86087659, -0.8587826 , -0.85668871, -0.85459483,\n",
       "       -0.85250089, -0.85040697, -0.84831305, -0.84621908, -0.84412517,\n",
       "       -0.84203127, -0.83993737, -0.8378434 , -0.83574954, -0.83365557,\n",
       "       -0.83156165, -0.8294678 , -0.82737374, -0.82527992, -0.82318601,\n",
       "       -0.82109199, -0.8189981 , -0.81690422, -0.81481022, -0.81271631,\n",
       "       -0.81062242, -0.80852847, -0.80643457, -0.80434065, -0.80224672,\n",
       "       -0.80015285, -0.79805888, -0.79596505, -0.79387103, -0.7917771 ])"
      ]
     },
     "execution_count": 17,
     "metadata": {},
     "output_type": "execute_result"
    }
   ],
   "source": [
    "rewards + discount*bellman_trans_q"
   ]
  },
  {
   "cell_type": "code",
   "execution_count": 18,
   "metadata": {
    "collapsed": false
   },
   "outputs": [
    {
     "data": {
      "text/plain": [
       "array([ 0.00182689,  0.00601815,  0.01022583,  0.01441829,  0.01859733,\n",
       "        0.02278524,  0.02697316,  0.03116107,  0.03534898,  0.03953691,\n",
       "        0.04372481,  0.04791272,  0.05210067,  0.05628857,  0.06047648,\n",
       "        0.06466441,  0.06885231,  0.07304022,  0.07722811,  0.08141606,\n",
       "        0.08560397,  0.08979187,  0.09397981,  0.09816772,  0.10235561,\n",
       "        0.10654353,  0.11073148,  0.11491934,  0.11910729,  0.12329517,\n",
       "        0.12748311,  0.13167107,  0.13585894,  0.14004686,  0.14423476,\n",
       "        0.14842267,  0.15261061,  0.15679848,  0.16098642,  0.16517432,\n",
       "        0.16936225,  0.1735502 ,  0.17773806,  0.181926  ,  0.18611389,\n",
       "        0.19030184,  0.19448976,  0.19867766,  0.20286557,  0.20705342,\n",
       "        0.21124122,  0.21542905,  0.21961688,  0.22380483,  0.22799267,\n",
       "        0.23218057,  0.2363683 ,  0.24055612,  0.24474403,  0.24893187,\n",
       "        0.25311971,  0.25730753,  0.26149541,  0.26568329,  0.26987112,\n",
       "        0.274059  ,  0.27824682,  0.28243479,  0.28662258,  0.29081035,\n",
       "        0.29499823,  0.29918605,  0.3033739 ,  0.30756184,  0.31174967,\n",
       "        0.31593746,  0.32012525,  0.32431319,  0.32850093,  0.33268887,\n",
       "        0.33687669,  0.34106439,  0.34525251,  0.34944016,  0.35362798,\n",
       "        0.35781601,  0.3620038 ,  0.36619157,  0.37037957,  0.37456739,\n",
       "        0.37875515,  0.38294306,  0.38713086,  0.39131871,  0.39550656,\n",
       "        0.39969429,  0.40388224,  0.40806991,  0.41225794,  0.41644579], dtype=float32)"
      ]
     },
     "execution_count": 18,
     "metadata": {},
     "output_type": "execute_result"
    }
   ],
   "source": [
    "bellman_trans_q"
   ]
  },
  {
   "cell_type": "code",
   "execution_count": null,
   "metadata": {
    "collapsed": true
   },
   "outputs": [],
   "source": []
  }
 ],
 "metadata": {
  "anaconda-cloud": {},
  "kernelspec": {
   "display_name": "Python [conda root]",
   "language": "python",
   "name": "conda-root-py"
  },
  "language_info": {
   "codemirror_mode": {
    "name": "ipython",
    "version": 3
   },
   "file_extension": ".py",
   "mimetype": "text/x-python",
   "name": "python",
   "nbconvert_exporter": "python",
   "pygments_lexer": "ipython3",
   "version": "3.5.2"
  }
 },
 "nbformat": 4,
 "nbformat_minor": 1
}
