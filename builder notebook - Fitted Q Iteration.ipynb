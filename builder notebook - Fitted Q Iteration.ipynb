{
 "cells": [
  {
   "cell_type": "code",
   "execution_count": 5,
   "metadata": {
    "collapsed": false
   },
   "outputs": [],
   "source": [
    "import tensorflow as tf\n",
    "import numpy as np\n",
    "from tqdm import tqdm\n",
    "from matplotlib import pyplot as plt\n",
    "\n",
    "n_state = 10\n",
    "n_action = 5\n",
    "n_samples = 100\n",
    "\n",
    "discount = 0.5\n",
    "\n",
    "# TODO USE ACTUAL MAPPED INSTANCES INSTEAD OF THESE RANDOMLY GENERATED VECTORS\n",
    "actions = np.random.binomial(n_action-1,[1/n_action],n_samples)\n",
    "instances = np.arange(n_state*n_samples).reshape(n_samples,n_state).astype(float)\n",
    "transitions = np.arange(n_state*n_samples).reshape(n_samples,n_state).astype(float)\n",
    "rewards = -np.ones((n_samples))\n",
    "\n",
    "n_layer1 = 15\n",
    "n_layer2 = 15\n",
    "n_layer3 = 15\n",
    "\n",
    "# TODO STANDARDIZE INPUTS AND OUTPUTS\n",
    "\n",
    "initializer = tf.truncated_normal_initializer\n",
    "ini_mean = 0\n",
    "ini_std = 1\n",
    "activation = tf.nn.relu\n",
    "\n",
    "def weight_matrix(n_from,n_to):\n",
    "    return tf.Variable(tf.truncated_normal(\n",
    "        shape=(n_from,n_to)\n",
    "        ,mean=ini_mean\n",
    "        ,stddev=ini_std/(n_from+n_to)\n",
    "        ,dtype=tf.float32))\n",
    "\n",
    "def bias_matrix(n_to):\n",
    "    return tf.Variable(tf.zeros(shape=(1,n_to),dtype=tf.float32))\n",
    "\n",
    "\n",
    "q_input = tf.placeholder(name='q_input', shape=(None,n_state),dtype=tf.float32)\n",
    "\n",
    "q_w1 = weight_matrix(n_state,n_layer1)\n",
    "q_b1 = bias_matrix(n_layer1)\n",
    "q_layer1 = activation(tf.matmul(q_input,q_w1) + q_b1)\n",
    "q_w2 = weight_matrix(n_layer1,n_layer2)\n",
    "q_b2 = bias_matrix(n_layer2)\n",
    "q_layer2 = activation(tf.matmul(q_layer1,q_w2)+ q_b2)\n",
    "q_w3 = weight_matrix(n_layer2,n_layer3)\n",
    "q_b3 = bias_matrix(n_layer3)\n",
    "q_layer3 = activation(tf.matmul(q_layer2,q_w3)+ q_b3)\n",
    "q_wout = weight_matrix(n_layer3,n_action)\n",
    "\n",
    "q_bpred = bias_matrix(n_action) \n",
    "q_pred = tf.matmul(q_layer3,q_wout) + q_bpred\n",
    "\n",
    "q_output = tf.placeholder(name='q_output',shape=(None,n_action),dtype=tf.float32)\n",
    "loss = tf.nn.l2_loss(q_output - q_pred)\n",
    "\n",
    "opt = tf.train.MomentumOptimizer(\n",
    "    learning_rate=0.000001,\n",
    "    momentum=0.7)\n",
    "\n",
    "opt_op = opt.minimize(loss, var_list = [q_w1,q_w2,q_w3,q_wout])\n",
    "\n",
    "builder = tf.saved_model.builder.SavedModelBuilder(\"./tmp/model.ckpt\")"
   ]
  },
  {
   "cell_type": "code",
   "execution_count": 6,
   "metadata": {
    "collapsed": false
   },
   "outputs": [
    {
     "name": "stderr",
     "output_type": "stream",
     "text": [
      "loss: 14.084392547607422: 100%|██████████| 500/500 [00:01<00:00, 466.06it/s]"
     ]
    },
    {
     "name": "stdout",
     "output_type": "stream",
     "text": [
      "INFO:tensorflow:No assets to save.\n",
      "INFO:tensorflow:No assets to write.\n"
     ]
    },
    {
     "name": "stderr",
     "output_type": "stream",
     "text": [
      "\n"
     ]
    },
    {
     "name": "stdout",
     "output_type": "stream",
     "text": [
      "INFO:tensorflow:SavedModel written to: b'./tmp/model.ckpt/saved_model.pb'\n",
      "done - model saved at b'./tmp/model.ckpt/saved_model.pb'\n"
     ]
    },
    {
     "data": {
      "image/png": "[encoded data removed]",
      "text/plain": [
       "<matplotlib.figure.Figure at 0x1198eafd0>"
      ]
     },
     "metadata": {},
     "output_type": "display_data"
    }
   ],
   "source": [
    "n_epochs = 500\n",
    "\n",
    "sess = tf.Session()\n",
    "init = tf.global_variables_initializer()\n",
    "sess.run(init)\n",
    "pbar = tqdm(range(n_epochs))\n",
    "_losses = []\n",
    "for _ in pbar:\n",
    "\n",
    "    bellman_trans_q = np.max(sess.run(q_pred, feed_dict={q_input:transitions}),axis=1)\n",
    "\n",
    "    ground_truth = sess.run(q_pred, feed_dict={q_input:instances})\n",
    "    ground_truth[list(range(n_samples)),actions] = rewards + discount*bellman_trans_q\n",
    "\n",
    "    sess.run(opt_op,feed_dict={q_input:instances, q_output:ground_truth})\n",
    "    _loss = sess.run(loss,feed_dict={q_input:instances, q_output:ground_truth})\n",
    "    _losses.append(_loss)\n",
    "    pbar.set_description('loss: {}'.format(_loss))\n",
    "    \n",
    "    ### TODO : Save model w/trained variables for use in target task\n",
    "    \n",
    "builder.add_meta_graph_and_variables(sess,\n",
    "                                     ['q_learning']\n",
    "                                        \n",
    "                                       )\n",
    "\n",
    "save_path = builder.save()\n",
    "\n",
    "print('done - model saved at', save_path)\n",
    "\n",
    "sess.close()\n",
    "    \n",
    "plt.plot(list(range(n_epochs)),_losses)\n",
    "plt.show()"
   ]
  },
  {
   "cell_type": "code",
   "execution_count": 7,
   "metadata": {
    "collapsed": false
   },
   "outputs": [
    {
     "data": {
      "text/plain": [
       "array([-0.99922163, -0.99756866, -0.99592048, -0.99427644, -0.99263271,\n",
       "       -0.99098897, -0.98934524, -0.9877015 , -0.98605777, -0.98441403,\n",
       "       -0.98277029, -0.98112656, -0.97948282, -0.97783909, -0.97619536,\n",
       "       -0.97455162, -0.97290788, -0.97126415, -0.96962042, -0.96797668,\n",
       "       -0.96633294, -0.96468921, -0.96304547, -0.96140174, -0.959758  ,\n",
       "       -0.95811427, -0.95647053, -0.9548268 , -0.95318307, -0.95153933,\n",
       "       -0.94989558, -0.94825185, -0.94660812, -0.94496438, -0.94332065,\n",
       "       -0.94167691, -0.94003318, -0.93838945, -0.93674571, -0.93510199,\n",
       "       -0.93345824, -0.9318145 , -0.93017077, -0.92852703, -0.9268833 ,\n",
       "       -0.92523956, -0.92359584, -0.92195209, -0.92030836, -0.91866461,\n",
       "       -0.91702089, -0.91537716, -0.91373342, -0.91208969, -0.91044594,\n",
       "       -0.9088022 , -0.90715848, -0.90551474, -0.903871  , -0.9022273 ,\n",
       "       -0.90058354, -0.8989398 , -0.89729609, -0.89565233, -0.89400859,\n",
       "       -0.89236487, -0.89072112, -0.88907739, -0.88743366, -0.88578991,\n",
       "       -0.88414616, -0.88250244, -0.8808587 , -0.87921499, -0.87757124,\n",
       "       -0.87592749, -0.87428378, -0.87264004, -0.8709963 , -0.86935258,\n",
       "       -0.86770883, -0.8660651 , -0.86442135, -0.86277762, -0.86113387,\n",
       "       -0.85949016, -0.85784641, -0.85620268, -0.85455894, -0.85291524,\n",
       "       -0.85127145, -0.84962775, -0.84798402, -0.84634027, -0.84469655,\n",
       "       -0.8430528 , -0.84140906, -0.83976533, -0.83812159, -0.83647786])"
      ]
     },
     "execution_count": 7,
     "metadata": {},
     "output_type": "execute_result"
    }
   ],
   "source": [
    "rewards + discount*bellman_trans_q"
   ]
  },
  {
   "cell_type": "code",
   "execution_count": 8,
   "metadata": {
    "collapsed": false
   },
   "outputs": [
    {
     "data": {
      "text/plain": [
       "array([ 0.00155675,  0.00486267,  0.00815904,  0.01144711,  0.01473459,\n",
       "        0.01802206,  0.02130952,  0.024597  ,  0.02788446,  0.03117194,\n",
       "        0.03445941,  0.03774688,  0.04103435,  0.04432182,  0.04760929,\n",
       "        0.05089676,  0.05418424,  0.0574717 ,  0.06075917,  0.06404664,\n",
       "        0.06733412,  0.07062159,  0.07390906,  0.07719652,  0.080484  ,\n",
       "        0.08377147,  0.08705894,  0.0903464 ,  0.09363387,  0.09692135,\n",
       "        0.10020883,  0.1034963 ,  0.10678376,  0.11007124,  0.11335869,\n",
       "        0.11664617,  0.11993365,  0.12322111,  0.12650858,  0.12979603,\n",
       "        0.13308352,  0.136371  ,  0.13965845,  0.14294593,  0.14623341,\n",
       "        0.14952087,  0.15280832,  0.15609582,  0.15938328,  0.16267078,\n",
       "        0.16595821,  0.16924568,  0.17253317,  0.17582062,  0.17910813,\n",
       "        0.18239559,  0.18568304,  0.18897052,  0.192258  ,  0.19554541,\n",
       "        0.19883293,  0.20212041,  0.20540783,  0.20869534,  0.21198282,\n",
       "        0.21527027,  0.21855776,  0.22184522,  0.22513269,  0.22842018,\n",
       "        0.23170768,  0.23499513,  0.23828259,  0.24157003,  0.24485752,\n",
       "        0.24814501,  0.25143245,  0.25471991,  0.25800741,  0.26129484,\n",
       "        0.26458234,  0.2678698 ,  0.27115729,  0.27444476,  0.27773225,\n",
       "        0.28101969,  0.28430718,  0.28759465,  0.29088211,  0.29416952,\n",
       "        0.2974571 ,  0.3007445 ,  0.30403197,  0.30731946,  0.3106069 ,\n",
       "        0.31389439,  0.31718189,  0.32046935,  0.32375681,  0.32704428], dtype=float32)"
      ]
     },
     "execution_count": 8,
     "metadata": {},
     "output_type": "execute_result"
    }
   ],
   "source": [
    "bellman_trans_q"
   ]
  },
  {
   "cell_type": "code",
   "execution_count": null,
   "metadata": {
    "collapsed": true
   },
   "outputs": [],
   "source": []
  }
 ],
 "metadata": {
  "anaconda-cloud": {},
  "kernelspec": {
   "display_name": "Python [conda root]",
   "language": "python",
   "name": "conda-root-py"
  },
  "language_info": {
   "codemirror_mode": {
    "name": "ipython",
    "version": 3
   },
   "file_extension": ".py",
   "mimetype": "text/x-python",
   "name": "python",
   "nbconvert_exporter": "python",
   "pygments_lexer": "ipython3",
   "version": "3.5.2"
  }
 },
 "nbformat": 4,
 "nbformat_minor": 1
}
